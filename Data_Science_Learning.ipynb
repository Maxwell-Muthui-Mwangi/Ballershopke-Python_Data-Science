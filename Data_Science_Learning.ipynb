{
  "nbformat": 4,
  "nbformat_minor": 0,
  "metadata": {
    "colab": {
      "provenance": [],
      "authorship_tag": "ABX9TyNbvk0Cay4ivOlvqmmlc0eY",
      "include_colab_link": true
    },
    "kernelspec": {
      "name": "python3",
      "display_name": "Python 3"
    },
    "language_info": {
      "name": "python"
    }
  },
  "cells": [
    {
      "cell_type": "markdown",
      "metadata": {
        "id": "view-in-github",
        "colab_type": "text"
      },
      "source": [
        "<a href=\"https://colab.research.google.com/github/Maxwell-Muthui-Mwangi/Ballershopke-Python_Data-Science/blob/main/Data_Science_Learning.ipynb\" target=\"_parent\"><img src=\"https://colab.research.google.com/assets/colab-badge.svg\" alt=\"Open In Colab\"/></a>"
      ]
    },
    {
      "cell_type": "code",
      "execution_count": 1,
      "metadata": {
        "colab": {
          "base_uri": "https://localhost:8080/"
        },
        "id": "CJ0jTyTCjbrE",
        "outputId": "9243d938-92a9-49d8-87b1-3e6bd2f675ba"
      },
      "outputs": [
        {
          "output_type": "stream",
          "name": "stdout",
          "text": [
            "The sum of 1.5 and 6.3 is 7.8\n"
          ]
        }
      ],
      "source": [
        "# This program adds two numbers\n",
        "num1 = 1.5\n",
        "num2 = 6.3\n",
        "# Add two numbers\n",
        "sum = num1 + num2\n",
        "# Display the sum\n",
        "print('The sum of {0} and {1} is {2}'.format(num1, num2, sum))"
      ]
    },
    {
      "cell_type": "code",
      "source": [
        "# This program adds two numbers entered by the user\n",
        "a=int(input(\"enter first number : \"))\n",
        "b=int(input(\"enter second number : \"))\n",
        "# Add two numbers\n",
        "sum = a + b\n",
        "# Display the sum\n",
        "print('The sum of {0} and {1} is {2}'.format(a, b, sum))\n"
      ],
      "metadata": {
        "colab": {
          "base_uri": "https://localhost:8080/"
        },
        "id": "YooaFpJnntfO",
        "outputId": "d6849a95-ba8a-44d3-eff7-89be7fec9b70"
      },
      "execution_count": 2,
      "outputs": [
        {
          "output_type": "stream",
          "name": "stdout",
          "text": [
            "enter first number : 203\n",
            "enter second number : 345\n",
            "The sum of 203 and 345 is 548\n"
          ]
        }
      ]
    },
    {
      "cell_type": "code",
      "source": [
        "# Python Program to calculate the square root\n",
        "ict = 27\n",
        "ans = ict ** 0.5\n",
        "print('The square root of %0.2f is %0.2f'%(ict ,ans))"
      ],
      "metadata": {
        "colab": {
          "base_uri": "https://localhost:8080/"
        },
        "id": "QrTf3NvgoZnl",
        "outputId": "69e92bae-66a2-4cfc-c185-305054b57e9e"
      },
      "execution_count": 3,
      "outputs": [
        {
          "output_type": "stream",
          "name": "stdout",
          "text": [
            "The square root of 27.00 is 5.20\n"
          ]
        }
      ]
    },
    {
      "cell_type": "code",
      "source": [
        "# Python Program to calculate the square root\n",
        "# import the math module\n",
        "import math\n",
        "ict = 27\n",
        "ans =math.sqrt(ict)\n",
        "print('The square root of %0.2f is %0.2f'%(ict ,ans))\n"
      ],
      "metadata": {
        "colab": {
          "base_uri": "https://localhost:8080/"
        },
        "id": "FDAM21ORo3ZO",
        "outputId": "e2779f67-ee04-499e-a415-5ba69e6653a0"
      },
      "execution_count": 4,
      "outputs": [
        {
          "output_type": "stream",
          "name": "stdout",
          "text": [
            "The square root of 27.00 is 5.20\n"
          ]
        }
      ]
    },
    {
      "cell_type": "code",
      "source": [
        "# Python Program to calculate the square root\n",
        "# import the math module\n",
        "import math\n",
        "ict = float(input('Enter a number: '))\n",
        "ans =math.sqrt(ict)\n",
        "print('The square root of %0.2f is %0.2f'%(ict ,ans))\n"
      ],
      "metadata": {
        "colab": {
          "base_uri": "https://localhost:8080/"
        },
        "id": "4hi1Oo30p9DM",
        "outputId": "f6076a76-1d80-4b77-c747-f692889b59f7"
      },
      "execution_count": 5,
      "outputs": [
        {
          "output_type": "stream",
          "name": "stdout",
          "text": [
            "Enter a number: 30000\n",
            "The square root of 30000.00 is 173.21\n"
          ]
        }
      ]
    },
    {
      "cell_type": "code",
      "source": [
        "# Python Program to find the area of triangle\n",
        "# Take inputs from the user\n",
        "a = float(input('Enter first side: '))\n",
        "b = float(input('Enter second side: '))\n",
        "c = float(input('Enter third side: '))\n",
        "# calculate the semi-perimeter\n",
        "s = (a + b + c) / 2\n",
        "# calculate the area\n",
        "area = (s*(s-a)*(s-b)*(s-c)) ** 0.5\n",
        "print('The area of the triangle is %0.3f' %area)"
      ],
      "metadata": {
        "colab": {
          "base_uri": "https://localhost:8080/"
        },
        "id": "BDchMV81qGQE",
        "outputId": "d38a6a94-1429-4fa8-89a7-8437d657ee21"
      },
      "execution_count": 6,
      "outputs": [
        {
          "output_type": "stream",
          "name": "stdout",
          "text": [
            "Enter first side: 23\n",
            "Enter second side: 34\n",
            "Enter third side: 56\n",
            "The area of the triangle is 145.923\n"
          ]
        }
      ]
    },
    {
      "cell_type": "code",
      "source": [
        "# Python Program to calculate your age\n",
        "# Take inputs from the user\n",
        "current = float(input('Enter the current year: '))\n",
        "yob = float(input('Enter Year of birth: '))\n",
        "# calculate the age\n",
        "age=current-yob\n",
        "print('Your current age is {0}'.format(age))"
      ],
      "metadata": {
        "colab": {
          "base_uri": "https://localhost:8080/"
        },
        "id": "do8_rsGaqeGG",
        "outputId": "43a2bb6a-0f31-40b1-820b-5b104987e5b5"
      },
      "execution_count": 7,
      "outputs": [
        {
          "output_type": "stream",
          "name": "stdout",
          "text": [
            "Enter the current year: 2024\n",
            "Enter Year of birth: 2003\n",
            "Your current age is 21.0\n"
          ]
        }
      ]
    },
    {
      "cell_type": "code",
      "source": [
        "\"\"\"\n",
        "Write a Python program to convert temperatures to and from celsius, fahrenheit.\n",
        "Formula :\n",
        "°F = (°C × 9/5) + 32\n",
        "°C = (°F − 32) x 5/9\n",
        "[ where c = temperature in celsius and f = temperature in fahrenheit ]:\n",
        "\"\"\"\n",
        "Fahrenheit = float(input(\"Enter a temperature in Fahrenheit: \"))\n",
        "Celsius = (Fahrenheit - 32) * 5.0/9.0\n",
        "print (\"Temperature:\", Fahrenheit, \"Fahrenheit = %0.2f\" %Celsius, \" C\")\n",
        "Celsius = float(input(\"Enter a temperature in Celsius: \"))\n",
        "Fahrenheit = 9.0/5.0 * Celsius + 32\n",
        "print(\"Temperature:\", Celsius, \"Celsius = %0.2f\" %Fahrenheit, \" F\")"
      ],
      "metadata": {
        "colab": {
          "base_uri": "https://localhost:8080/"
        },
        "id": "fo3UYXBbqr0I",
        "outputId": "c3d127eb-a5d2-49ef-86a7-5e13a364a3cc"
      },
      "execution_count": 8,
      "outputs": [
        {
          "output_type": "stream",
          "name": "stdout",
          "text": [
            "Enter a temperature in Fahrenheit: 344\n",
            "Temperature: 344.0 Fahrenheit = 173.33  C\n",
            "Enter a temperature in Celsius: 173.33\n",
            "Temperature: 173.33 Celsius = 343.99  F\n"
          ]
        }
      ]
    },
    {
      "cell_type": "code",
      "source": [
        "#A program to calculate cuberoot of a number (using math.ceil ()function):\n",
        "import math\n",
        "number = int(input(\"Enter the number: \"))\n",
        "cuberoot = math.ceil(number ** (1/3))\n",
        "print(\"The cube root is:\",cuberoot)"
      ],
      "metadata": {
        "colab": {
          "base_uri": "https://localhost:8080/"
        },
        "id": "wrUnka_mrT45",
        "outputId": "771ef44f-edf5-4f03-b875-4bfa24416e56"
      },
      "execution_count": 9,
      "outputs": [
        {
          "output_type": "stream",
          "name": "stdout",
          "text": [
            "Enter the number: 456\n",
            "The cube root is: 8\n"
          ]
        }
      ]
    },
    {
      "cell_type": "code",
      "source": [
        " #A program to calculate cuberoot of a number (using **):\n",
        "number = int(input(\"Enter the number: \"))\n",
        "cuberoot = number**(1/3)\n",
        "print(\"The cube root is: %0.2f\" %cuberoot)\n"
      ],
      "metadata": {
        "colab": {
          "base_uri": "https://localhost:8080/"
        },
        "id": "xLGEXuLIr3I4",
        "outputId": "24b659e4-39a7-440c-d95f-c5431d4a8c00"
      },
      "execution_count": 10,
      "outputs": [
        {
          "output_type": "stream",
          "name": "stdout",
          "text": [
            "Enter the number: 456\n",
            "The cube root is: 7.70\n"
          ]
        }
      ]
    },
    {
      "cell_type": "code",
      "source": [
        "#A program to calculate cube root of a number (using Round Function):\n",
        "import math\n",
        "number = int(input(\"Enter the number: \"))\n",
        "cuberoot = round(number ** (1/3), 2)\n",
        "print(\"The cube root is:\", cuberoot)"
      ],
      "metadata": {
        "colab": {
          "base_uri": "https://localhost:8080/"
        },
        "id": "hUCILh7xsGje",
        "outputId": "7450abfe-0a83-4ec8-ef9e-0b23cd8c517c"
      },
      "execution_count": 11,
      "outputs": [
        {
          "output_type": "stream",
          "name": "stdout",
          "text": [
            "Enter the number: 456\n",
            "The cube root is: 7.7\n"
          ]
        }
      ]
    },
    {
      "cell_type": "code",
      "source": [
        "\"\"\"\n",
        "A program is required to calculate wages for employees of ABC Ltd. Using the following\n",
        "formulae.\n",
        "i. Basic salary = No of Hours * hourly rate\n",
        "ii. Lunch Allowance = 200\n",
        "iii. Gross Salary = Basic Pay + Lunch Allowance\n",
        "iv. Income Tax charged on gross pay is 30% of the gross\n",
        "v. Net pay = Gross pay – Tax\n",
        "Hourly rate and lunch allowance are constant values. The number of hours worked should be\n",
        "read from the keyboard. Write a program to process salary for an employee.\n",
        "\"\"\"\n",
        "# Constants\n",
        "hourly_rate = 1500\n",
        "lunch_allowance = 600\n",
        "tax_rate = 0.30\n",
        "# Input number of hours worked from the user\n",
        "hours_worked = float(input(\"Enter the number of hours worked: \"))\n",
        "# Calculate Basic Pay\n",
        "basic_salary = hours_worked * hourly_rate\n",
        "# Calculate Gross Salary\n",
        "gross_salary = basic_salary + lunch_allowance\n",
        "# Calculate Tax\n",
        "tax = gross_salary * tax_rate\n",
        "# Calculate Net Pay\n",
        "net_pay = gross_salary - tax\n",
        "# Display the calculated values\n",
        "print(\"Basic Salary: KSH\", format(basic_salary, \".2f\"))\n",
        "print(\"Gross Salary: KSH\", format(gross_salary, \".2f\"))\n",
        "print(\"Tax: KSH\", format(tax, \".2f\"))\n",
        "print(\"Net Pay: KSH\", format(net_pay, \".2f\"))"
      ],
      "metadata": {
        "colab": {
          "base_uri": "https://localhost:8080/"
        },
        "id": "txxnCq_gsNuJ",
        "outputId": "893b8f57-7576-4d4b-d015-f18a1ecbe959"
      },
      "execution_count": 12,
      "outputs": [
        {
          "output_type": "stream",
          "name": "stdout",
          "text": [
            "Enter the number of hours worked: 45\n",
            "Basic Salary: KSH 67500.00\n",
            "Gross Salary: KSH 68100.00\n",
            "Tax: KSH 20430.00\n",
            "Net Pay: KSH 47670.00\n"
          ]
        }
      ]
    },
    {
      "cell_type": "markdown",
      "source": [
        "Control Structure(Control the flow of your code👌😁)"
      ],
      "metadata": {
        "id": "AN9qUShBtS9K"
      }
    },
    {
      "cell_type": "code",
      "source": [
        "#A Program to read theory and practical Marks and Comment Appropriately:\n",
        "score_theory = 50\n",
        "score_practical = 55\n",
        "if(score_theory + score_practical >= 100):\n",
        "   print(\"Invalid score. Please check the input.\")"
      ],
      "metadata": {
        "colab": {
          "base_uri": "https://localhost:8080/"
        },
        "id": "hLy9gSoDtFsD",
        "outputId": "1e343545-fe8a-449e-a8d5-31fd993b0e3b"
      },
      "execution_count": 14,
      "outputs": [
        {
          "output_type": "stream",
          "name": "stdout",
          "text": [
            "Invalid score. Please check the input.\n"
          ]
        }
      ]
    },
    {
      "cell_type": "code",
      "source": [
        "# This program to test maximum value between two values entered\n",
        "a=int(input(\"enter first number : \"))\n",
        "b=int(input(\"enter second number : \"))\n",
        "# Add two numbers\n",
        "if (a>b):\n",
        "  print('Maximum=',a)\n",
        "else:\n",
        "  print('Maximum=',b)"
      ],
      "metadata": {
        "colab": {
          "base_uri": "https://localhost:8080/"
        },
        "id": "2LVWtsxgtj_H",
        "outputId": "87d2611e-0918-41f0-8047-0ad12319fc7a"
      },
      "execution_count": 16,
      "outputs": [
        {
          "output_type": "stream",
          "name": "stdout",
          "text": [
            "enter first number : 200000\n",
            "enter second number : 200030\n",
            "Maximum= 200030\n"
          ]
        }
      ]
    },
    {
      "cell_type": "code",
      "source": [
        "# A Program to grade a student appropriately:\n",
        "print(\"Enter Marks Obtained in 5 Subjects: \")\n",
        "markOne = int(input())\n",
        "markTwo = int(input())\n",
        "markThree = int(input())\n",
        "markFour = int(input())\n",
        "markFive = int(input())\n",
        "tot = markOne+markTwo+markThree+markFour+markFive\n",
        "avg = tot/5\n",
        "print(\"Average=%.2f\"%avg)\n",
        "if avg>=70 and avg<=100:\n",
        "   print(\"Your Grade is A\")\n",
        "elif avg>=60 and avg<=69:\n",
        "   print(\"Your Grade is B\")\n",
        "elif avg>=50 and avg<=59:\n",
        "   print(\"Your Grade is C\")"
      ],
      "metadata": {
        "colab": {
          "base_uri": "https://localhost:8080/"
        },
        "id": "nvBSV9PyuECJ",
        "outputId": "2d7aff32-029f-4542-82de-d5c0c7a69b56"
      },
      "execution_count": 17,
      "outputs": [
        {
          "output_type": "stream",
          "name": "stdout",
          "text": [
            "Enter Marks Obtained in 5 Subjects: \n",
            "23\n",
            "34\n",
            "78\n",
            "90\n",
            "78\n",
            "Average=60.60\n",
            "Your Grade is B\n"
          ]
        }
      ]
    },
    {
      "cell_type": "code",
      "source": [
        "# A In this program, we input a number check if the number is positive or\n",
        "#negative or zero and display an appropriate message.\n",
        "num = float(input(\"Enter a number: \"))\n",
        "if num >= 0:\n",
        "  if num == 0:\n",
        "    print(\"Zero\")\n",
        "  else:\n",
        "    print(\"Positive number\")\n",
        "else:\n",
        "    print(\"Negative number\")"
      ],
      "metadata": {
        "colab": {
          "base_uri": "https://localhost:8080/"
        },
        "id": "Q82F0FP8unEI",
        "outputId": "6c476036-595d-4d30-a579-61177c6762be"
      },
      "execution_count": 18,
      "outputs": [
        {
          "output_type": "stream",
          "name": "stdout",
          "text": [
            "Enter a number: -345\n",
            "Negative number\n"
          ]
        }
      ]
    },
    {
      "cell_type": "code",
      "source": [
        "#Program to find the sum of all numbers stored in a list\n",
        "# List of numbers\n",
        "numbers = [6, 5, 3, 8, 4, 2, 5, 4, 11]\n",
        "# variable to store the sum\n",
        "sum = 0\n",
        "# iterate over the list\n",
        "for val in numbers:\n",
        "  sum = sum+val\n",
        "print(\"The sum is\", sum)"
      ],
      "metadata": {
        "colab": {
          "base_uri": "https://localhost:8080/"
        },
        "id": "mkl13zTovF-q",
        "outputId": "829a68e5-c297-4867-b3e9-2655a2d48ed7"
      },
      "execution_count": 19,
      "outputs": [
        {
          "output_type": "stream",
          "name": "stdout",
          "text": [
            "The sum is 48\n"
          ]
        }
      ]
    },
    {
      "cell_type": "code",
      "source": [
        " #Program Iterating string using for loop.\n",
        "str = \"KIRINYAGA is a great county\"\n",
        "for i in str:\n",
        "  print(i)\n"
      ],
      "metadata": {
        "colab": {
          "base_uri": "https://localhost:8080/"
        },
        "id": "oOHjuRLkvP2K",
        "outputId": "fa5ef2b7-6eb8-486a-8ff3-db2047a56468"
      },
      "execution_count": 21,
      "outputs": [
        {
          "output_type": "stream",
          "name": "stdout",
          "text": [
            "K\n",
            "I\n",
            "R\n",
            "I\n",
            "N\n",
            "Y\n",
            "A\n",
            "G\n",
            "A\n",
            " \n",
            "i\n",
            "s\n",
            " \n",
            "a\n",
            " \n",
            "g\n",
            "r\n",
            "e\n",
            "a\n",
            "t\n",
            " \n",
            "c\n",
            "o\n",
            "u\n",
            "n\n",
            "t\n",
            "y\n"
          ]
        }
      ]
    },
    {
      "cell_type": "code",
      "source": [
        "#read string from user\n",
        "str = input('Enter your first name: ')\n",
        "for i in str:\n",
        "  print(i)\n"
      ],
      "metadata": {
        "colab": {
          "base_uri": "https://localhost:8080/"
        },
        "id": "f0hBddNYvkra",
        "outputId": "72a2ab7f-e163-4580-a0da-7b3908a30314"
      },
      "execution_count": 22,
      "outputs": [
        {
          "output_type": "stream",
          "name": "stdout",
          "text": [
            "Enter your first name: Maxwell Muthui Mwangi\n",
            "M\n",
            "a\n",
            "x\n",
            "w\n",
            "e\n",
            "l\n",
            "l\n",
            " \n",
            "M\n",
            "u\n",
            "t\n",
            "h\n",
            "u\n",
            "i\n",
            " \n",
            "M\n",
            "w\n",
            "a\n",
            "n\n",
            "g\n",
            "i\n"
          ]
        }
      ]
    },
    {
      "cell_type": "code",
      "source": [
        "#Program to print 1 to 10 using for loop.\n",
        "for i in range(11):\n",
        "  print(i)"
      ],
      "metadata": {
        "colab": {
          "base_uri": "https://localhost:8080/"
        },
        "id": "RnC53Q5lv2Uo",
        "outputId": "5ea7e213-0fb1-46c6-b18d-233a0954cecf"
      },
      "execution_count": 23,
      "outputs": [
        {
          "output_type": "stream",
          "name": "stdout",
          "text": [
            "0\n",
            "1\n",
            "2\n",
            "3\n",
            "4\n",
            "5\n",
            "6\n",
            "7\n",
            "8\n",
            "9\n",
            "10\n"
          ]
        }
      ]
    },
    {
      "cell_type": "code",
      "source": [
        "# Program to print table of given number.\n",
        "n = int(input(\"Enter the number \"))\n",
        "for i in range(1,11):\n",
        " c = n*i\n",
        " print(n,\"*\",i,\"=\",c)"
      ],
      "metadata": {
        "colab": {
          "base_uri": "https://localhost:8080/"
        },
        "id": "9XM03lb7moE6",
        "outputId": "5fa8d545-25ed-42e4-dccf-691152d1963d"
      },
      "execution_count": 1,
      "outputs": [
        {
          "output_type": "stream",
          "name": "stdout",
          "text": [
            "Enter the number 345\n",
            "345 * 1 = 345\n",
            "345 * 2 = 690\n",
            "345 * 3 = 1035\n",
            "345 * 4 = 1380\n",
            "345 * 5 = 1725\n",
            "345 * 6 = 2070\n",
            "345 * 7 = 2415\n",
            "345 * 8 = 2760\n",
            "345 * 9 = 3105\n",
            "345 * 10 = 3450\n"
          ]
        }
      ]
    },
    {
      "cell_type": "code",
      "source": [
        "#Program to print even number using step size in range().\n",
        "n = int(input(\"Enter the number \"))\n",
        "for i in range(2,n,2):\n",
        "   print(i)"
      ],
      "metadata": {
        "colab": {
          "base_uri": "https://localhost:8080/"
        },
        "id": "IpDw6JZznEsB",
        "outputId": "69fbed00-f18b-4585-c0f7-73a88b865ab7"
      },
      "execution_count": 2,
      "outputs": [
        {
          "output_type": "stream",
          "name": "stdout",
          "text": [
            "Enter the number 456\n",
            "2\n",
            "4\n",
            "6\n",
            "8\n",
            "10\n",
            "12\n",
            "14\n",
            "16\n",
            "18\n",
            "20\n",
            "22\n",
            "24\n",
            "26\n",
            "28\n",
            "30\n",
            "32\n",
            "34\n",
            "36\n",
            "38\n",
            "40\n",
            "42\n",
            "44\n",
            "46\n",
            "48\n",
            "50\n",
            "52\n",
            "54\n",
            "56\n",
            "58\n",
            "60\n",
            "62\n",
            "64\n",
            "66\n",
            "68\n",
            "70\n",
            "72\n",
            "74\n",
            "76\n",
            "78\n",
            "80\n",
            "82\n",
            "84\n",
            "86\n",
            "88\n",
            "90\n",
            "92\n",
            "94\n",
            "96\n",
            "98\n",
            "100\n",
            "102\n",
            "104\n",
            "106\n",
            "108\n",
            "110\n",
            "112\n",
            "114\n",
            "116\n",
            "118\n",
            "120\n",
            "122\n",
            "124\n",
            "126\n",
            "128\n",
            "130\n",
            "132\n",
            "134\n",
            "136\n",
            "138\n",
            "140\n",
            "142\n",
            "144\n",
            "146\n",
            "148\n",
            "150\n",
            "152\n",
            "154\n",
            "156\n",
            "158\n",
            "160\n",
            "162\n",
            "164\n",
            "166\n",
            "168\n",
            "170\n",
            "172\n",
            "174\n",
            "176\n",
            "178\n",
            "180\n",
            "182\n",
            "184\n",
            "186\n",
            "188\n",
            "190\n",
            "192\n",
            "194\n",
            "196\n",
            "198\n",
            "200\n",
            "202\n",
            "204\n",
            "206\n",
            "208\n",
            "210\n",
            "212\n",
            "214\n",
            "216\n",
            "218\n",
            "220\n",
            "222\n",
            "224\n",
            "226\n",
            "228\n",
            "230\n",
            "232\n",
            "234\n",
            "236\n",
            "238\n",
            "240\n",
            "242\n",
            "244\n",
            "246\n",
            "248\n",
            "250\n",
            "252\n",
            "254\n",
            "256\n",
            "258\n",
            "260\n",
            "262\n",
            "264\n",
            "266\n",
            "268\n",
            "270\n",
            "272\n",
            "274\n",
            "276\n",
            "278\n",
            "280\n",
            "282\n",
            "284\n",
            "286\n",
            "288\n",
            "290\n",
            "292\n",
            "294\n",
            "296\n",
            "298\n",
            "300\n",
            "302\n",
            "304\n",
            "306\n",
            "308\n",
            "310\n",
            "312\n",
            "314\n",
            "316\n",
            "318\n",
            "320\n",
            "322\n",
            "324\n",
            "326\n",
            "328\n",
            "330\n",
            "332\n",
            "334\n",
            "336\n",
            "338\n",
            "340\n",
            "342\n",
            "344\n",
            "346\n",
            "348\n",
            "350\n",
            "352\n",
            "354\n",
            "356\n",
            "358\n",
            "360\n",
            "362\n",
            "364\n",
            "366\n",
            "368\n",
            "370\n",
            "372\n",
            "374\n",
            "376\n",
            "378\n",
            "380\n",
            "382\n",
            "384\n",
            "386\n",
            "388\n",
            "390\n",
            "392\n",
            "394\n",
            "396\n",
            "398\n",
            "400\n",
            "402\n",
            "404\n",
            "406\n",
            "408\n",
            "410\n",
            "412\n",
            "414\n",
            "416\n",
            "418\n",
            "420\n",
            "422\n",
            "424\n",
            "426\n",
            "428\n",
            "430\n",
            "432\n",
            "434\n",
            "436\n",
            "438\n",
            "440\n",
            "442\n",
            "444\n",
            "446\n",
            "448\n",
            "450\n",
            "452\n",
            "454\n"
          ]
        }
      ]
    },
    {
      "cell_type": "code",
      "source": [
        "#Program to print string using len() and range().\n",
        "list = ['George','Wainaina','Peter','Joyce']\n",
        "for i in range(len(list)):\n",
        " print(\"Good Morning\",list[i])"
      ],
      "metadata": {
        "colab": {
          "base_uri": "https://localhost:8080/"
        },
        "id": "G2HDHYIboDCb",
        "outputId": "24ef1c7e-b7d5-421b-f5d9-dc7e93188e95"
      },
      "execution_count": 3,
      "outputs": [
        {
          "output_type": "stream",
          "name": "stdout",
          "text": [
            "Good Morning George\n",
            "Good Morning Wainaina\n",
            "Good Morning Peter\n",
            "Good Morning Joyce\n"
          ]
        }
      ]
    },
    {
      "cell_type": "code",
      "source": [
        "#Program to print * in a pattern using nested for loop.\n",
        "# User input for number of rows\n",
        "rows = int(input(\"Enter the rows:\"))\n",
        "# Outer loop will print number of rows\n",
        "for i in range(0,rows+1):\n",
        "# Inner loop will print number of Astrisk\n",
        "  for j in range(i):\n",
        "     print(\"*\",end = '')\n",
        "  print()"
      ],
      "metadata": {
        "colab": {
          "base_uri": "https://localhost:8080/"
        },
        "id": "6N4EwdgyphLC",
        "outputId": "3f2312b2-d031-490f-fea6-5167e84bebec"
      },
      "execution_count": 4,
      "outputs": [
        {
          "output_type": "stream",
          "name": "stdout",
          "text": [
            "Enter the rows:34\n",
            "\n",
            "*\n",
            "**\n",
            "***\n",
            "****\n",
            "*****\n",
            "******\n",
            "*******\n",
            "********\n",
            "*********\n",
            "**********\n",
            "***********\n",
            "************\n",
            "*************\n",
            "**************\n",
            "***************\n",
            "****************\n",
            "*****************\n",
            "******************\n",
            "*******************\n",
            "********************\n",
            "*********************\n",
            "**********************\n",
            "***********************\n",
            "************************\n",
            "*************************\n",
            "**************************\n",
            "***************************\n",
            "****************************\n",
            "*****************************\n",
            "******************************\n",
            "*******************************\n",
            "********************************\n",
            "*********************************\n",
            "**********************************\n"
          ]
        }
      ]
    },
    {
      "cell_type": "code",
      "source": [
        "#Program to number pyramid\n",
        "rows = int(input(\"Enter the rows\"))\n",
        "for i in range(0,rows+1):\n",
        "  for j in range(i):\n",
        "    print(i,end = ' ')\n",
        "  print()\n"
      ],
      "metadata": {
        "colab": {
          "base_uri": "https://localhost:8080/"
        },
        "id": "6GD6AVsWp49k",
        "outputId": "3e854abb-a939-4d38-a4ba-458c422b7ced"
      },
      "execution_count": 5,
      "outputs": [
        {
          "output_type": "stream",
          "name": "stdout",
          "text": [
            "Enter the rows34\n",
            "\n",
            "1 \n",
            "2 2 \n",
            "3 3 3 \n",
            "4 4 4 4 \n",
            "5 5 5 5 5 \n",
            "6 6 6 6 6 6 \n",
            "7 7 7 7 7 7 7 \n",
            "8 8 8 8 8 8 8 8 \n",
            "9 9 9 9 9 9 9 9 9 \n",
            "10 10 10 10 10 10 10 10 10 10 \n",
            "11 11 11 11 11 11 11 11 11 11 11 \n",
            "12 12 12 12 12 12 12 12 12 12 12 12 \n",
            "13 13 13 13 13 13 13 13 13 13 13 13 13 \n",
            "14 14 14 14 14 14 14 14 14 14 14 14 14 14 \n",
            "15 15 15 15 15 15 15 15 15 15 15 15 15 15 15 \n",
            "16 16 16 16 16 16 16 16 16 16 16 16 16 16 16 16 \n",
            "17 17 17 17 17 17 17 17 17 17 17 17 17 17 17 17 17 \n",
            "18 18 18 18 18 18 18 18 18 18 18 18 18 18 18 18 18 18 \n",
            "19 19 19 19 19 19 19 19 19 19 19 19 19 19 19 19 19 19 19 \n",
            "20 20 20 20 20 20 20 20 20 20 20 20 20 20 20 20 20 20 20 20 \n",
            "21 21 21 21 21 21 21 21 21 21 21 21 21 21 21 21 21 21 21 21 21 \n",
            "22 22 22 22 22 22 22 22 22 22 22 22 22 22 22 22 22 22 22 22 22 22 \n",
            "23 23 23 23 23 23 23 23 23 23 23 23 23 23 23 23 23 23 23 23 23 23 23 \n",
            "24 24 24 24 24 24 24 24 24 24 24 24 24 24 24 24 24 24 24 24 24 24 24 24 \n",
            "25 25 25 25 25 25 25 25 25 25 25 25 25 25 25 25 25 25 25 25 25 25 25 25 25 \n",
            "26 26 26 26 26 26 26 26 26 26 26 26 26 26 26 26 26 26 26 26 26 26 26 26 26 26 \n",
            "27 27 27 27 27 27 27 27 27 27 27 27 27 27 27 27 27 27 27 27 27 27 27 27 27 27 27 \n",
            "28 28 28 28 28 28 28 28 28 28 28 28 28 28 28 28 28 28 28 28 28 28 28 28 28 28 28 28 \n",
            "29 29 29 29 29 29 29 29 29 29 29 29 29 29 29 29 29 29 29 29 29 29 29 29 29 29 29 29 29 \n",
            "30 30 30 30 30 30 30 30 30 30 30 30 30 30 30 30 30 30 30 30 30 30 30 30 30 30 30 30 30 30 \n",
            "31 31 31 31 31 31 31 31 31 31 31 31 31 31 31 31 31 31 31 31 31 31 31 31 31 31 31 31 31 31 31 \n",
            "32 32 32 32 32 32 32 32 32 32 32 32 32 32 32 32 32 32 32 32 32 32 32 32 32 32 32 32 32 32 32 32 \n",
            "33 33 33 33 33 33 33 33 33 33 33 33 33 33 33 33 33 33 33 33 33 33 33 33 33 33 33 33 33 33 33 33 33 \n",
            "34 34 34 34 34 34 34 34 34 34 34 34 34 34 34 34 34 34 34 34 34 34 34 34 34 34 34 34 34 34 34 34 34 34 \n"
          ]
        }
      ]
    },
    {
      "cell_type": "code",
      "source": [
        " #Program to add natural numbers up to the number you will specify at run\n",
        "#time.\n",
        "# To take input from the user,\n",
        "n = int(input(\"Enter n: \"))\n",
        "# initialize sum and counter\n",
        "sum = 0\n",
        "i = 1\n",
        "while i <= n:\n",
        "   sum = sum + i\n",
        "   print(i)\n",
        "   i = i+1 # update counter\n",
        "# print the sum\n",
        "print(\"The sum is\", sum)"
      ],
      "metadata": {
        "colab": {
          "base_uri": "https://localhost:8080/"
        },
        "id": "XM5hM0rMqxeG",
        "outputId": "a8258e76-3717-4c41-b309-e4b9a1144593"
      },
      "execution_count": 7,
      "outputs": [
        {
          "output_type": "stream",
          "name": "stdout",
          "text": [
            "Enter n: 34\n",
            "1\n",
            "2\n",
            "3\n",
            "4\n",
            "5\n",
            "6\n",
            "7\n",
            "8\n",
            "9\n",
            "10\n",
            "11\n",
            "12\n",
            "13\n",
            "14\n",
            "15\n",
            "16\n",
            "17\n",
            "18\n",
            "19\n",
            "20\n",
            "21\n",
            "22\n",
            "23\n",
            "24\n",
            "25\n",
            "26\n",
            "27\n",
            "28\n",
            "29\n",
            "30\n",
            "31\n",
            "32\n",
            "33\n",
            "34\n",
            "The sum is 595\n"
          ]
        }
      ]
    },
    {
      "cell_type": "code",
      "source": [
        "#Program to print table of given numbers.\n",
        "i=1\n",
        "number=0\n",
        "b=9\n",
        "number = int(input(\"Enter the number:\"))\n",
        "while i<=5:\n",
        "  print(\"%d X %d = %d \\n\"%(number,i,number*i))\n",
        "  i = i+1"
      ],
      "metadata": {
        "colab": {
          "base_uri": "https://localhost:8080/"
        },
        "id": "iTrcbUXCrZku",
        "outputId": "bee3243b-10a4-481c-995a-62ff62a6aea4"
      },
      "execution_count": 8,
      "outputs": [
        {
          "output_type": "stream",
          "name": "stdout",
          "text": [
            "Enter the number:20\n",
            "20 X 1 = 20 \n",
            "\n",
            "20 X 2 = 40 \n",
            "\n",
            "20 X 3 = 60 \n",
            "\n",
            "20 X 4 = 80 \n",
            "\n",
            "20 X 5 = 100 \n",
            "\n"
          ]
        }
      ]
    },
    {
      "cell_type": "code",
      "source": [
        "#Program to implement Continue statement.\n",
        "# prints all letters except 'I' and 'A'\n",
        "i = 0\n",
        "str1 = 'KIRINYAGA'\n",
        "while i < len(str1):\n",
        "  if str1[i] == 'I' or str1[i] == 'A':\n",
        "     i += 1\n",
        "     continue\n",
        "  print('Current Letter :', str1[i])\n",
        "  i += 1\n"
      ],
      "metadata": {
        "colab": {
          "base_uri": "https://localhost:8080/"
        },
        "id": "qg1eb4MksH9p",
        "outputId": "c65bf74a-3990-4dc6-be4d-7b80a17d76ed"
      },
      "execution_count": 10,
      "outputs": [
        {
          "output_type": "stream",
          "name": "stdout",
          "text": [
            "Current Letter : K\n",
            "Current Letter : R\n",
            "Current Letter : N\n",
            "Current Letter : Y\n",
            "Current Letter : G\n"
          ]
        }
      ]
    },
    {
      "cell_type": "code",
      "source": [
        " #Program to implement Break statement.\n",
        "# prints all letters but terminates after encountering 'N'\n",
        "i = 0\n",
        "str1 = 'KIRINYAGA'\n",
        "while i < len(str1):\n",
        "  if str1[i] == 'N':\n",
        "     i += 1\n",
        "     break\n",
        "  print('Current Letter :', str1[i])\n",
        "  i += 1\n"
      ],
      "metadata": {
        "colab": {
          "base_uri": "https://localhost:8080/"
        },
        "id": "DYkJYZNotM9r",
        "outputId": "cfba9157-65fb-4016-d24d-39f02199bac2"
      },
      "execution_count": 11,
      "outputs": [
        {
          "output_type": "stream",
          "name": "stdout",
          "text": [
            "Current Letter : K\n",
            "Current Letter : I\n",
            "Current Letter : R\n",
            "Current Letter : I\n"
          ]
        }
      ]
    },
    {
      "cell_type": "code",
      "source": [
        "# Program to implement Pass statement.\n",
        "# An empty loop\n",
        "str1 = 'SOFTWARE_ENGINEERING'\n",
        "i = 0\n",
        "while i < len(str1):\n",
        "   i += 1\n",
        "   pass\n",
        "print('Value of i :', i)"
      ],
      "metadata": {
        "colab": {
          "base_uri": "https://localhost:8080/"
        },
        "id": "IsW0e9CHtzDS",
        "outputId": "7701e0ff-ea3b-443c-eef1-9f3d76813a22"
      },
      "execution_count": 12,
      "outputs": [
        {
          "output_type": "stream",
          "name": "stdout",
          "text": [
            "Value of i : 20\n"
          ]
        }
      ]
    }
  ]
}