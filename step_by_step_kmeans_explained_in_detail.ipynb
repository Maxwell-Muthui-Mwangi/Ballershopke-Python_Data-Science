{
  "cells": [
    {
      "cell_type": "markdown",
      "metadata": {
        "id": "view-in-github",
        "colab_type": "text"
      },
      "source": [
        "<a href=\"https://colab.research.google.com/github/Maxwell-Muthui-Mwangi/Ballershopke-Python_Data-Science/blob/main/step_by_step_kmeans_explained_in_detail.ipynb\" target=\"_parent\"><img src=\"https://colab.research.google.com/assets/colab-badge.svg\" alt=\"Open In Colab\"/></a>"
      ]
    },
    {
      "cell_type": "code",
      "execution_count": null,
      "metadata": {
        "id": "iGzPC4AQyYC9"
      },
      "outputs": [],
      "source": [
        "#Proprietary content. © Ballershopke. All Rights Reserved. Unauthorized use or distribution prohibited."
      ]
    },
    {
      "cell_type": "markdown",
      "metadata": {
        "id": "Z_gTJ-10yYDk"
      },
      "source": [
        "![](http://cdn-images-1.medium.com/max/2400/1*PRC6tdXpTekQ6X7qdUDehg.jpeg)"
      ]
    },
    {
      "cell_type": "markdown",
      "metadata": {
        "id": "O-egVmT-yYDn"
      },
      "source": [
        "## Super Data Science and Udemy! Big Thanks!\n",
        "\n",
        "![](https://preview.redd.it/o4mshdf4hui01.jpg?width=750&auto=webp&s=2d647d5d30a1f1b7507411929ff077e1df967e00)"
      ]
    },
    {
      "cell_type": "markdown",
      "metadata": {
        "id": "sVJxkbaRyYDo"
      },
      "source": [
        "### *Table of content*\n",
        "\n",
        "[1. What does KMeans do?](#1)\n",
        "\n",
        "\n",
        "[2. Applications](#2)\n",
        "\n",
        "\n",
        "[3. Working](#3)\n",
        "\n",
        "\n",
        "[4. Choosing the right K](#4)\n",
        "\n",
        "\n",
        "\n",
        "[5. Centroid Random Initialisation Trap](#5)\n",
        "\n",
        "\n",
        "\n",
        "[6. Implemention](#6)\n",
        "\n",
        "\n",
        "\n",
        "[7. Visualisation](#7)"
      ]
    },
    {
      "cell_type": "markdown",
      "metadata": {
        "id": "--hFGw3EyYDp"
      },
      "source": [
        "<a id=\"1\"></a>\n",
        "## 1. What does KMeans do?\n",
        "\n",
        "K-means clustering is a type of unsupervised learning, which is used when you have unlabeled data (i.e., data without defined categories or groups). The goal of this algorithm is to find groups in the data, with the number of groups represented by the variable K. The algorithm works iteratively to assign each data point to one of K groups based on the features that are provided. Data points are clustered based on feature similarity. The results of the K-means clustering algorithm are:\n",
        "\n",
        "* The centroids of the K clusters, which can be used to label new data\n",
        "* Labels for the training data (each data point is assigned to a single cluster)"
      ]
    },
    {
      "cell_type": "markdown",
      "metadata": {
        "id": "G-Gj-aJHyYDq"
      },
      "source": [
        "![](https://imgur.com/a/wVDJPuZ)"
      ]
    },
    {
      "cell_type": "markdown",
      "metadata": {
        "id": "1GudrN6MyYDr"
      },
      "source": [
        "![](https://i.imgur.com/rwkQNbv.png)"
      ]
    },
    {
      "cell_type": "markdown",
      "metadata": {
        "id": "Jm35Il0TyYDr"
      },
      "source": [
        "<a id=\"2\"></a>\n",
        "## 2. Applications\n",
        "The K-means clustering algorithm is used to find groups which have not been explicitly labeled in the data. This can be used to confirm business assumptions about what types of groups exist or to identify unknown groups in complex data sets. Once the algorithm has been run and the groups are defined, any new data can be easily assigned to the correct group.\n",
        "\n",
        "This is a versatile algorithm that can be used for any type of grouping. Some examples of use cases are:\n",
        "\n",
        "* Behavioral segmentation:\n",
        "* * Segment by purchase history\n",
        "* * Segment by activities on application, website, or platform\n",
        "* * Define personas based on interests\n",
        "* * Create profiles based on activity monitoring\n",
        "* Inventory categorization:\n",
        "* * Group inventory by sales activity\n",
        "* * Group inventory by manufacturing metrics\n",
        "* Sorting sensor measurements:\n",
        "* * Detect activity types in motion sensors\n",
        "* * Group images\n",
        "* * Separate audio\n",
        "* * Identify groups in health monitoring\n",
        "* Detecting bots or anomalies:\n",
        "* * Separate valid activity groups from bots"
      ]
    },
    {
      "cell_type": "markdown",
      "metadata": {
        "id": "RzkPUY4syYDs"
      },
      "source": [
        "<a id=\"3\"></a>\n",
        "## 3. Working\n",
        "\n",
        "Let's now discuss the working of KMeans algorithm. The aim is to break the explanation down in the simplest way possible.\n",
        "\n",
        "\n",
        "#### It begins with choosing the number of K clusters. The K signifies the number of clusters that the algorithm would find in the dataset. Now choosing the right K is very important. Sometimes the K is clearly visible from the dataset when visualized. However most of the times this is not the case and in a short time we'll see about how to choose the right K value.\n",
        "\n",
        "\n",
        "\n",
        "![](https://i.imgur.com/RBK4dtA.png)\n"
      ]
    },
    {
      "cell_type": "markdown",
      "metadata": {
        "id": "3yN9dd0ByYDs"
      },
      "source": [
        "#### The second step is to allocate K random points as centroids. These K points could be points from the dataset or outside. There's one thing to note however. The random initialisation of centroids can sometimes cause random initialisation trap which we would see in this section soon.\n",
        "\n",
        "![](https://i.imgur.com/LfI2qfl.png)"
      ]
    },
    {
      "cell_type": "markdown",
      "metadata": {
        "id": "sNNZA9WpyYDs"
      },
      "source": [
        "#### In the third step the dataset points would be allocated to the centroid which is closest to them.\n",
        "\n",
        "\n",
        "\n",
        "![](https://i.imgur.com/9I5JH3m.png)\n"
      ]
    },
    {
      "cell_type": "markdown",
      "metadata": {
        "id": "6R5PFLVtyYDt"
      },
      "source": [
        "#### The fourth step is to calculate the centroid of the individual clusters and place the old centroid there.\n",
        "\n",
        "\n",
        "\n",
        "\n",
        "![](https://i.imgur.com/FyIeKuA.png)"
      ]
    },
    {
      "cell_type": "markdown",
      "metadata": {
        "id": "Zi7Hg0hgyYDt"
      },
      "source": [
        "#### The fifth step is to reassign points like we did in step 3. If reassignment takes place then we need to go back to step four. If no reassignment takes place then we can say that our model has converged and its ready.\n",
        "\n",
        "\n",
        "\n",
        "\n",
        "![](https://i.imgur.com/aRaGcKB.png)"
      ]
    },
    {
      "cell_type": "markdown",
      "metadata": {
        "id": "Uk_2VBa4yYDt"
      },
      "source": [
        "## Step Summary\n",
        "### To summarise the steps we can say :\n",
        "![](https://i.imgur.com/3jTk7Y0.png)"
      ]
    },
    {
      "cell_type": "markdown",
      "metadata": {
        "id": "tdHOBmoAyYDt"
      },
      "source": [
        "<a id=\"4\"></a>\n",
        "## 4. Choosing the right K\n",
        "\n",
        "The way to evaluate the choice of K is made using a parameter known as WCSS. WCSS stands for **Within Cluster Sum of Squares**.\n",
        "It should be low. Here's the formula representation for example when K = 3\n",
        "\n",
        "Summation Distance(p,c) is the sum of distance of points in a cluster from the centroid.\n",
        "\n",
        "\n",
        "![](https://i.imgur.com/5W63xul.png)"
      ]
    },
    {
      "cell_type": "markdown",
      "metadata": {
        "id": "h5ZBq9ueyYDu"
      },
      "source": [
        "The Elbow Method is then used to choose the best K value. In the depiction below we can see that after 3 there's no significant decrease in WCSS so 3 is the best here. Therefore there's an elbow shape that forms and it is usually a good idea to pick the number where this elbow is formed. There would be many times when the graph wouldn't be this intuitive but with practice it becomes easier.\n",
        "\n",
        "![](https://i.imgur.com/gi9p7V5.png)"
      ]
    },
    {
      "cell_type": "markdown",
      "metadata": {
        "id": "3XYSQLMTyYDu"
      },
      "source": [
        "<a id=\"5\"></a>\n",
        "## 5. Centroid Random Initialisation Trap\n",
        "\n",
        "Through these images let's see how two different random initialisations can cause a totally different outcome.\n",
        "\n",
        "### Init 1\n",
        "\n",
        "\n",
        "\n",
        "![](https://i.imgur.com/zsC9z0z.png)\n",
        "\n",
        "\n",
        "\n",
        "\n",
        "### Init 2\n",
        "\n",
        "\n",
        "\n",
        "![](https://i.imgur.com/kU5BX6j.png)"
      ]
    },
    {
      "cell_type": "markdown",
      "metadata": {
        "id": "ynWzgeHxyYDv"
      },
      "source": [
        "So we saw that even with clear distinction possible visually, wrong randomisation can produce wrong results.\n",
        "There have been researches carried out and one of the most famous ways to initialise centroids is KMeans++.\n",
        "The best thing is that the whole algorithm remains the same but the only difference is that we provide an argument to SKlearn to use KMeans++ for initialisation. There are many papers explaining the KMeans++ but the explanation is beyond this notebook for now. :)"
      ]
    },
    {
      "cell_type": "markdown",
      "metadata": {
        "id": "xeiTs503yYDv"
      },
      "source": [
        "![](https://cdn-images-1.medium.com/max/1200/1*x7P7gqjo8k2_bj2rTQWAfg.jpeg)"
      ]
    },
    {
      "cell_type": "markdown",
      "metadata": {
        "id": "u7o0CsVJyYDv"
      },
      "source": [
        "<a id=\"6\"></a>\n",
        "## 6. Implementation"
      ]
    },
    {
      "cell_type": "code",
      "execution_count": null,
      "metadata": {
        "_cell_guid": "b1076dfc-b9ad-4769-8c92-a6c4dae69d19",
        "_uuid": "8f2839f25d086af736a60e9eeb907d3b93b6e0e5",
        "id": "eABZ-bX8yYDw",
        "outputId": "664f221f-3d3d-4d39-911b-51144fc800e3"
      },
      "outputs": [
        {
          "name": "stdout",
          "output_type": "stream",
          "text": [
            "['Mall_Customers.csv']\n"
          ]
        }
      ],
      "source": [
        "import numpy as np # linear algebra\n",
        "import pandas as pd # data processing, CSV file I/O (e.g. pd.read_csv)\n",
        "import os\n",
        "import matplotlib.pyplot as plt\n",
        "import seaborn as sns\n",
        "sns.set(context=\"notebook\", palette=\"Spectral\", style = 'darkgrid' ,font_scale = 1.5, color_codes=True)\n",
        "print(os.listdir(\"../input\"))"
      ]
    },
    {
      "cell_type": "code",
      "execution_count": null,
      "metadata": {
        "id": "TBXfru2lyYDx"
      },
      "outputs": [],
      "source": [
        "# Importing the dataset\n",
        "dataset = pd.read_csv('../input/Mall_Customers.csv',index_col='CustomerID')"
      ]
    },
    {
      "cell_type": "code",
      "execution_count": null,
      "metadata": {
        "id": "6pnHA8CVyYDy",
        "outputId": "dcc06385-4ec7-43b1-a153-d9647f2b5faf"
      },
      "outputs": [
        {
          "data": {
            "text/html": [
              "<div>\n",
              "<style scoped>\n",
              "    .dataframe tbody tr th:only-of-type {\n",
              "        vertical-align: middle;\n",
              "    }\n",
              "\n",
              "    .dataframe tbody tr th {\n",
              "        vertical-align: top;\n",
              "    }\n",
              "\n",
              "    .dataframe thead th {\n",
              "        text-align: right;\n",
              "    }\n",
              "</style>\n",
              "<table border=\"1\" class=\"dataframe\">\n",
              "  <thead>\n",
              "    <tr style=\"text-align: right;\">\n",
              "      <th></th>\n",
              "      <th>Genre</th>\n",
              "      <th>Age</th>\n",
              "      <th>Annual_Income_(k$)</th>\n",
              "      <th>Spending_Score</th>\n",
              "    </tr>\n",
              "    <tr>\n",
              "      <th>CustomerID</th>\n",
              "      <th></th>\n",
              "      <th></th>\n",
              "      <th></th>\n",
              "      <th></th>\n",
              "    </tr>\n",
              "  </thead>\n",
              "  <tbody>\n",
              "    <tr>\n",
              "      <th>1</th>\n",
              "      <td>Male</td>\n",
              "      <td>19</td>\n",
              "      <td>15</td>\n",
              "      <td>39</td>\n",
              "    </tr>\n",
              "    <tr>\n",
              "      <th>2</th>\n",
              "      <td>Male</td>\n",
              "      <td>21</td>\n",
              "      <td>15</td>\n",
              "      <td>81</td>\n",
              "    </tr>\n",
              "    <tr>\n",
              "      <th>3</th>\n",
              "      <td>Female</td>\n",
              "      <td>20</td>\n",
              "      <td>16</td>\n",
              "      <td>6</td>\n",
              "    </tr>\n",
              "    <tr>\n",
              "      <th>4</th>\n",
              "      <td>Female</td>\n",
              "      <td>23</td>\n",
              "      <td>16</td>\n",
              "      <td>77</td>\n",
              "    </tr>\n",
              "    <tr>\n",
              "      <th>5</th>\n",
              "      <td>Female</td>\n",
              "      <td>31</td>\n",
              "      <td>17</td>\n",
              "      <td>40</td>\n",
              "    </tr>\n",
              "  </tbody>\n",
              "</table>\n",
              "</div>"
            ],
            "text/plain": [
              "             Genre  Age  Annual_Income_(k$)  Spending_Score\n",
              "CustomerID                                                 \n",
              "1             Male   19                  15              39\n",
              "2             Male   21                  15              81\n",
              "3           Female   20                  16               6\n",
              "4           Female   23                  16              77\n",
              "5           Female   31                  17              40"
            ]
          },
          "execution_count": 3,
          "metadata": {},
          "output_type": "execute_result"
        }
      ],
      "source": [
        "dataset.head()"
      ]
    },
    {
      "cell_type": "code",
      "execution_count": null,
      "metadata": {
        "id": "Nfm2DgaFyYDy",
        "outputId": "bfa4d3df-724c-45b5-a9ee-d70921a81581"
      },
      "outputs": [
        {
          "name": "stdout",
          "output_type": "stream",
          "text": [
            "<class 'pandas.core.frame.DataFrame'>\n",
            "Int64Index: 200 entries, 1 to 200\n",
            "Data columns (total 4 columns):\n",
            "Genre                 200 non-null object\n",
            "Age                   200 non-null int64\n",
            "Annual_Income_(k$)    200 non-null int64\n",
            "Spending_Score        200 non-null int64\n",
            "dtypes: int64(3), object(1)\n",
            "memory usage: 7.8+ KB\n"
          ]
        }
      ],
      "source": [
        "dataset.info()"
      ]
    },
    {
      "cell_type": "code",
      "execution_count": null,
      "metadata": {
        "id": "YldQ92dDyYDy",
        "outputId": "a553e865-0a47-4ca9-907a-dbdb6ee4fa35"
      },
      "outputs": [
        {
          "data": {
            "text/html": [
              "<div>\n",
              "<style scoped>\n",
              "    .dataframe tbody tr th:only-of-type {\n",
              "        vertical-align: middle;\n",
              "    }\n",
              "\n",
              "    .dataframe tbody tr th {\n",
              "        vertical-align: top;\n",
              "    }\n",
              "\n",
              "    .dataframe thead th {\n",
              "        text-align: right;\n",
              "    }\n",
              "</style>\n",
              "<table border=\"1\" class=\"dataframe\">\n",
              "  <thead>\n",
              "    <tr style=\"text-align: right;\">\n",
              "      <th></th>\n",
              "      <th>Age</th>\n",
              "      <th>Annual_Income_(k$)</th>\n",
              "      <th>Spending_Score</th>\n",
              "    </tr>\n",
              "  </thead>\n",
              "  <tbody>\n",
              "    <tr>\n",
              "      <th>count</th>\n",
              "      <td>200.000000</td>\n",
              "      <td>200.000000</td>\n",
              "      <td>200.000000</td>\n",
              "    </tr>\n",
              "    <tr>\n",
              "      <th>mean</th>\n",
              "      <td>38.850000</td>\n",
              "      <td>60.560000</td>\n",
              "      <td>50.200000</td>\n",
              "    </tr>\n",
              "    <tr>\n",
              "      <th>std</th>\n",
              "      <td>13.969007</td>\n",
              "      <td>26.264721</td>\n",
              "      <td>25.823522</td>\n",
              "    </tr>\n",
              "    <tr>\n",
              "      <th>min</th>\n",
              "      <td>18.000000</td>\n",
              "      <td>15.000000</td>\n",
              "      <td>1.000000</td>\n",
              "    </tr>\n",
              "    <tr>\n",
              "      <th>25%</th>\n",
              "      <td>28.750000</td>\n",
              "      <td>41.500000</td>\n",
              "      <td>34.750000</td>\n",
              "    </tr>\n",
              "    <tr>\n",
              "      <th>50%</th>\n",
              "      <td>36.000000</td>\n",
              "      <td>61.500000</td>\n",
              "      <td>50.000000</td>\n",
              "    </tr>\n",
              "    <tr>\n",
              "      <th>75%</th>\n",
              "      <td>49.000000</td>\n",
              "      <td>78.000000</td>\n",
              "      <td>73.000000</td>\n",
              "    </tr>\n",
              "    <tr>\n",
              "      <th>max</th>\n",
              "      <td>70.000000</td>\n",
              "      <td>137.000000</td>\n",
              "      <td>99.000000</td>\n",
              "    </tr>\n",
              "  </tbody>\n",
              "</table>\n",
              "</div>"
            ],
            "text/plain": [
              "              Age  Annual_Income_(k$)  Spending_Score\n",
              "count  200.000000          200.000000      200.000000\n",
              "mean    38.850000           60.560000       50.200000\n",
              "std     13.969007           26.264721       25.823522\n",
              "min     18.000000           15.000000        1.000000\n",
              "25%     28.750000           41.500000       34.750000\n",
              "50%     36.000000           61.500000       50.000000\n",
              "75%     49.000000           78.000000       73.000000\n",
              "max     70.000000          137.000000       99.000000"
            ]
          },
          "execution_count": 5,
          "metadata": {},
          "output_type": "execute_result"
        }
      ],
      "source": [
        "dataset.describe()"
      ]
    },
    {
      "cell_type": "code",
      "execution_count": null,
      "metadata": {
        "id": "oGcCqHGByYDz",
        "outputId": "1ba57b1f-5ac7-4b57-cb9c-1fe412afe8c2"
      },
      "outputs": [
        {
          "data": {
            "text/plain": [
              "Genre                 0\n",
              "Age                   0\n",
              "Annual_Income_(k$)    0\n",
              "Spending_Score        0\n",
              "dtype: int64"
            ]
          },
          "execution_count": 6,
          "metadata": {},
          "output_type": "execute_result"
        }
      ],
      "source": [
        "dataset.isnull().sum()"
      ]
    },
    {
      "cell_type": "markdown",
      "metadata": {
        "id": "mLtFG-mhyYDz"
      },
      "source": [
        "No Nans found! Great"
      ]
    },
    {
      "cell_type": "code",
      "execution_count": null,
      "metadata": {
        "id": "XVZY2TAjyYDz"
      },
      "outputs": [],
      "source": [
        "dataset.drop_duplicates(inplace=True)"
      ]
    },
    {
      "cell_type": "code",
      "execution_count": null,
      "metadata": {
        "id": "INH_wtjfyYD0"
      },
      "outputs": [],
      "source": [
        "# using only Spending_Score and income variable for easy visualisation\n",
        "X = dataset.iloc[:, [2, 3]].values"
      ]
    },
    {
      "cell_type": "code",
      "execution_count": null,
      "metadata": {
        "_cell_guid": "79c7e3d0-c299-4dcb-8224-4455121ee9b0",
        "_uuid": "d629ff2d2480ee46fbb7e2d37f6b5fab8052498a",
        "id": "IIGCisx0yYD0"
      },
      "outputs": [],
      "source": [
        "# Using the elbow method to find the optimal number of clusters\n",
        "from sklearn.cluster import KMeans\n",
        "wcss = []\n",
        "for i in range(1, 11):\n",
        "    kmeans = KMeans(n_clusters = i, init = 'k-means++', random_state = 42)\n",
        "    kmeans.fit(X)\n",
        "    # inertia method returns wcss for that model\n",
        "    wcss.append(kmeans.inertia_)"
      ]
    },
    {
      "cell_type": "code",
      "execution_count": null,
      "metadata": {
        "id": "A-wr-lxlyYD0",
        "outputId": "af96a70a-4e9f-4aea-d71c-dd8ee236f382"
      },
      "outputs": [
        {
          "data": {
            "image/png": "[encoded data removed]",
            "text/plain": [
              "<Figure size 720x360 with 1 Axes>"
            ]
          },
          "metadata": {},
          "output_type": "display_data"
        }
      ],
      "source": [
        "plt.figure(figsize=(10,5))\n",
        "sns.lineplot(range(1, 11), wcss,marker='o',color='red')\n",
        "plt.title('The Elbow Method')\n",
        "plt.xlabel('Number of clusters')\n",
        "plt.ylabel('WCSS')\n",
        "plt.show()\n"
      ]
    },
    {
      "cell_type": "code",
      "execution_count": null,
      "metadata": {
        "id": "x1-dSoFgyYD0"
      },
      "outputs": [],
      "source": [
        "# Fitting K-Means to the dataset\n",
        "kmeans = KMeans(n_clusters = 5, init = 'k-means++', random_state = 42)\n",
        "y_kmeans = kmeans.fit_predict(X)"
      ]
    },
    {
      "cell_type": "markdown",
      "metadata": {
        "id": "hdIf4ESMyYD1"
      },
      "source": [
        "<a id=\"7\"></a>\n",
        "## 7. Visualisation"
      ]
    },
    {
      "cell_type": "code",
      "execution_count": null,
      "metadata": {
        "id": "qmKflNWiyYD1",
        "outputId": "172bf757-fac4-44ec-c67b-5d1a76f3722e"
      },
      "outputs": [
        {
          "data": {
            "image/png": "[encoded data removed]",
            "text/plain": [
              "<Figure size 1080x504 with 1 Axes>"
            ]
          },
          "metadata": {},
          "output_type": "display_data"
        }
      ],
      "source": [
        "# Visualising the clusters\n",
        "plt.figure(figsize=(15,7))\n",
        "sns.scatterplot(X[y_kmeans == 0, 0], X[y_kmeans == 0, 1], color = 'yellow', label = 'Cluster 1',s=50)\n",
        "sns.scatterplot(X[y_kmeans == 1, 0], X[y_kmeans == 1, 1], color = 'blue', label = 'Cluster 2',s=50)\n",
        "sns.scatterplot(X[y_kmeans == 2, 0], X[y_kmeans == 2, 1], color = 'green', label = 'Cluster 3',s=50)\n",
        "sns.scatterplot(X[y_kmeans == 3, 0], X[y_kmeans == 3, 1], color = 'grey', label = 'Cluster 4',s=50)\n",
        "sns.scatterplot(X[y_kmeans == 4, 0], X[y_kmeans == 4, 1], color = 'orange', label = 'Cluster 5',s=50)\n",
        "sns.scatterplot(kmeans.cluster_centers_[:, 0], kmeans.cluster_centers_[:, 1], color = 'red',\n",
        "                label = 'Centroids',s=300,marker=',')\n",
        "plt.grid(False)\n",
        "plt.title('Clusters of customers')\n",
        "plt.xlabel('Annual Income (k$)')\n",
        "plt.ylabel('Spending Score (1-100)')\n",
        "plt.legend()\n",
        "plt.show()"
      ]
    },
    {
      "cell_type": "markdown",
      "metadata": {
        "id": "BSDIVo1FyYD1"
      },
      "source": [
        "Big Thanks to:\n",
        "\n",
        "* https://www.datascience.com/blog/k-means-clustering\n",
        "* https://www.superdatascience.com\n",
        "* https://www.udemy.com\n"
      ]
    },
    {
      "cell_type": "code",
      "execution_count": null,
      "metadata": {
        "id": "Xbr0H2M-yYD2"
      },
      "outputs": [],
      "source": []
    }
  ],
  "metadata": {
    "kernelspec": {
      "display_name": "Python 3",
      "language": "python",
      "name": "python3"
    },
    "language_info": {
      "codemirror_mode": {
        "name": "ipython",
        "version": 3
      },
      "file_extension": ".py",
      "mimetype": "text/x-python",
      "name": "python",
      "nbconvert_exporter": "python",
      "pygments_lexer": "ipython3",
      "version": "3.8.3"
    },
    "colab": {
      "provenance": [],
      "include_colab_link": true
    }
  },
  "nbformat": 4,
  "nbformat_minor": 0
}