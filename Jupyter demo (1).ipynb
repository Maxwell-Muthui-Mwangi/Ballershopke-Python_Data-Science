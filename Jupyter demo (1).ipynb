{
 "cells": [
  {
   "cell_type": "code",
   "execution_count": 1,
   "metadata": {},
   "outputs": [],
   "source": [
    "#Proprietary content. © Ballershopke. All Rights Reserved. Unauthorized use or distribution prohibited."
   ]
  },
  {
   "cell_type": "markdown",
   "metadata": {},
   "source": [
    "## <span style=\"color:black\"><b>Data Science demo using Jupyter Notebook</b></span>"
   ]
  },
  {
   "cell_type": "markdown",
   "metadata": {
    "id": "q10LSANesLOG"
   },
   "source": [
    "**Importing all of the libraries**"
   ]
  },
  {
   "cell_type": "code",
   "execution_count": null,
   "metadata": {
    "id": "2KOdjsfsNmbd"
   },
   "outputs": [],
   "source": [
    "#Importing basic packages\n",
    "import numpy as np\n",
    "import pandas as pd\n",
    "import matplotlib.pyplot as plt\n",
    "import seaborn as sns\n",
    "#from pandas_profiling import ProfileReport\n",
    "from subprocess import check_output\n",
    "from sklearn import preprocessing\n",
    "from sklearn.model_selection import train_test_split\n",
    "from sklearn.linear_model import LogisticRegression\n",
    "from sklearn.metrics import confusion_matrix \n",
    "from sklearn import metrics\n",
    "%matplotlib inline \n",
    "from sklearn.metrics import classification_report, accuracy_score  \n"
   ]
  },
  {
   "cell_type": "markdown",
   "metadata": {
    "id": "v40y3iMisNy2"
   },
   "source": [
    "**Importing the dataset**"
   ]
  },
  {
   "cell_type": "code",
   "execution_count": null,
   "metadata": {
    "id": "EGVKQK8LN1YQ"
   },
   "outputs": [],
   "source": [
    "data=pd.read_csv(\"C:/Users/Anirudh/Downloads/diabetes.csv\")\n",
    "\n"
   ]
  },
  {
   "cell_type": "markdown",
   "metadata": {
    "id": "x3Xir3cgsPcO"
   },
   "source": [
    "**Sneakpeak into the dataset**"
   ]
  },
  {
   "cell_type": "code",
   "execution_count": null,
   "metadata": {
    "id": "PzX30WytWLjM"
   },
   "outputs": [],
   "source": [
    "data.head()"
   ]
  },
  {
   "cell_type": "markdown",
   "metadata": {
    "id": "gh5Jt5c2sTYW"
   },
   "source": [
    "**Printing out the column labels**"
   ]
  },
  {
   "cell_type": "code",
   "execution_count": null,
   "metadata": {
    "id": "myiS6NgsWNsu"
   },
   "outputs": [],
   "source": [
    "data.columns"
   ]
  },
  {
   "cell_type": "markdown",
   "metadata": {
    "id": "cg8yTjogsiVO"
   },
   "source": [
    "**Details about the dataset**"
   ]
  },
  {
   "cell_type": "code",
   "execution_count": null,
   "metadata": {
    "id": "26b6Bim4WPvm"
   },
   "outputs": [],
   "source": [
    "data.info()"
   ]
  },
  {
   "cell_type": "markdown",
   "metadata": {
    "id": "XpW7sxubsmQu"
   },
   "source": [
    "**Statical aspect of the dataset**"
   ]
  },
  {
   "cell_type": "code",
   "execution_count": null,
   "metadata": {
    "id": "FnbOlizlWPzM"
   },
   "outputs": [],
   "source": [
    "data.describe()"
   ]
  },
  {
   "cell_type": "markdown",
   "metadata": {
    "id": "L-1kmQGcsqD2"
   },
   "source": [
    "**Preprocessing - Checking for NaN values**"
   ]
  },
  {
   "cell_type": "code",
   "execution_count": null,
   "metadata": {
    "id": "SyjCiJgyWP2I"
   },
   "outputs": [],
   "source": [
    "data.isna().any()"
   ]
  },
  {
   "cell_type": "markdown",
   "metadata": {
    "id": "EbQO44NDs0dG"
   },
   "source": [
    "**Understanding correlation between the labels**"
   ]
  },
  {
   "cell_type": "code",
   "execution_count": null,
   "metadata": {
    "id": "megg8yrhWagU"
   },
   "outputs": [],
   "source": [
    "# Correlation\n",
    "correlation_metrics = data.corr() \n",
    "fig = plt.figure(figsize = (14, 9)) \n",
    "sns.heatmap(correlation_metrics, vmax = .9, square = True) #annot = value\n",
    "plt.show() \n",
    "print(correlation_metrics)"
   ]
  },
  {
   "cell_type": "markdown",
   "metadata": {
    "id": "QXq-pBqgtBt2"
   },
   "source": [
    "**Number of people with no Diabetes**"
   ]
  },
  {
   "cell_type": "code",
   "execution_count": null,
   "metadata": {
    "id": "78Pxz5n-XANf"
   },
   "outputs": [],
   "source": [
    "No_sugar = 0\n",
    "result=data['Outcome']\n",
    "for i in range(len(result)):\n",
    "  #print()\n",
    "  if result[i]==0:\n",
    "    No_sugar=No_sugar+1\n",
    "print(No_sugar)"
   ]
  },
  {
   "cell_type": "markdown",
   "metadata": {
    "id": "YOZ4Z-4ftIoO"
   },
   "source": [
    "**Number of people with Diabetes**"
   ]
  },
  {
   "cell_type": "code",
   "execution_count": null,
   "metadata": {
    "id": "dTij69vrXDVp"
   },
   "outputs": [],
   "source": [
    "Sugar = 0\n",
    "for i in range(len(result)):\n",
    "  #print()\n",
    "  if result[i]==1:\n",
    "    Sugar=Sugar+1\n",
    "print(Sugar)"
   ]
  },
  {
   "cell_type": "markdown",
   "metadata": {
    "id": "DTiXR2Y4tKn2"
   },
   "source": [
    "**Printing count plot with Seaborn**"
   ]
  },
  {
   "cell_type": "code",
   "execution_count": null,
   "metadata": {
    "id": "5XqVyaMCXGfu"
   },
   "outputs": [],
   "source": [
    "## creating count plot with title using seaborn\n",
    "sns.countplot(x=data.Outcome)\n",
    "plt.title(\"No Diabetes vs Diabetes\")"
   ]
  },
  {
   "cell_type": "markdown",
   "metadata": {
    "id": "V_IUDrAPGwNw"
   },
   "source": [
    "**Splitting the training and testing dataset**"
   ]
  },
  {
   "cell_type": "code",
   "execution_count": null,
   "metadata": {
    "id": "7T54SxDrXqkg"
   },
   "outputs": [],
   "source": [
    "x=data.drop(['Outcome'], axis = 1)#drop the target variable\n",
    "y=data['Outcome']\n",
    "xtrain, xtest, ytrain, ytest = train_test_split(x, y, test_size = 0.2, random_state = 42) "
   ]
  },
  {
   "cell_type": "markdown",
   "metadata": {
    "id": "0atjZ98tG0Xv"
   },
   "source": [
    "**Using Logistic Regression**"
   ]
  },
  {
   "cell_type": "code",
   "execution_count": null,
   "metadata": {
    "id": "ERVmBCQjN8Yn"
   },
   "outputs": [],
   "source": [
    "L=LogisticRegression()\n",
    "L.fit(xtrain,ytrain)"
   ]
  },
  {
   "cell_type": "markdown",
   "metadata": {
    "id": "vKrqFxz6G3jP"
   },
   "source": [
    "**Performing predictions**"
   ]
  },
  {
   "cell_type": "code",
   "execution_count": null,
   "metadata": {
    "id": "C0dRggeoOQYI"
   },
   "outputs": [],
   "source": [
    "y_pred=L.predict(xtest)"
   ]
  },
  {
   "cell_type": "markdown",
   "metadata": {
    "id": "WAecSkkNG66P"
   },
   "source": [
    "**Confusion Matrix**"
   ]
  },
  {
   "cell_type": "code",
   "execution_count": null,
   "metadata": {
    "id": "yg2qqxDOOXeU"
   },
   "outputs": [],
   "source": [
    "cm = metrics.confusion_matrix(ytest, y_pred)\n",
    "print(cm)"
   ]
  },
  {
   "cell_type": "markdown",
   "metadata": {
    "id": "MSb4GF5GG9s_"
   },
   "source": [
    "**Final accuracy score**"
   ]
  },
  {
   "cell_type": "code",
   "execution_count": null,
   "metadata": {
    "id": "tHuDO2mYOnfI"
   },
   "outputs": [],
   "source": [
    "accuracy= L.score(xtest,ytest)\n",
    "\n",
    "print('Accuracy score of the Logistic regression model: ', accuracy*100,'%')"
   ]
  },
  {
   "cell_type": "markdown",
   "metadata": {
    "id": "mbJhaHkB7bGP"
   },
   "source": [
    "**Printing Classification Report**"
   ]
  },
  {
   "cell_type": "code",
   "execution_count": null,
   "metadata": {
    "id": "2BlqiPvy7Dw5"
   },
   "outputs": [],
   "source": [
    "from sklearn.metrics import classification_report\n",
    "class_report= classification_report (ytest,y_pred)\n",
    "print(class_report)"
   ]
  },
  {
   "cell_type": "markdown",
   "metadata": {
    "id": "2XSKZpp8G_7H"
   },
   "source": [
    "\n",
    "\n",
    "---\n",
    "\n"
   ]
  }
 ],
 "metadata": {
  "colab": {
   "collapsed_sections": [],
   "name": "Statistics for Data Science",
   "provenance": []
  },
  "kernelspec": {
   "display_name": "Python 3",
   "language": "python",
   "name": "python3"
  },
  "language_info": {
   "codemirror_mode": {
    "name": "ipython",
    "version": 3
   },
   "file_extension": ".py",
   "mimetype": "text/x-python",
   "name": "python",
   "nbconvert_exporter": "python",
   "pygments_lexer": "ipython3",
   "version": "3.8.3"
  }
 },
 "nbformat": 4,
 "nbformat_minor": 1
}
