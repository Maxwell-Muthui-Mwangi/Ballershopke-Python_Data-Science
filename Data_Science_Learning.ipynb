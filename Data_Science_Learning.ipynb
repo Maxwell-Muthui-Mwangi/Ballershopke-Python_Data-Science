{
  "nbformat": 4,
  "nbformat_minor": 0,
  "metadata": {
    "colab": {
      "provenance": [],
      "authorship_tag": "ABX9TyNd9mZBHm5lvZmyfcYDjOd9",
      "include_colab_link": true
    },
    "kernelspec": {
      "name": "python3",
      "display_name": "Python 3"
    },
    "language_info": {
      "name": "python"
    }
  },
  "cells": [
    {
      "cell_type": "markdown",
      "metadata": {
        "id": "view-in-github",
        "colab_type": "text"
      },
      "source": [
        "<a href=\"https://colab.research.google.com/github/Maxwell-Muthui-Mwangi/Ballershopke-Python_Data-Science/blob/main/Data_Science_Learning.ipynb\" target=\"_parent\"><img src=\"https://colab.research.google.com/assets/colab-badge.svg\" alt=\"Open In Colab\"/></a>"
      ]
    },
    {
      "cell_type": "code",
      "execution_count": 1,
      "metadata": {
        "colab": {
          "base_uri": "https://localhost:8080/"
        },
        "id": "CJ0jTyTCjbrE",
        "outputId": "9243d938-92a9-49d8-87b1-3e6bd2f675ba"
      },
      "outputs": [
        {
          "output_type": "stream",
          "name": "stdout",
          "text": [
            "The sum of 1.5 and 6.3 is 7.8\n"
          ]
        }
      ],
      "source": [
        "# This program adds two numbers\n",
        "num1 = 1.5\n",
        "num2 = 6.3\n",
        "# Add two numbers\n",
        "sum = num1 + num2\n",
        "# Display the sum\n",
        "print('The sum of {0} and {1} is {2}'.format(num1, num2, sum))"
      ]
    },
    {
      "cell_type": "code",
      "source": [
        "# This program adds two numbers entered by the user\n",
        "a=int(input(\"enter first number : \"))\n",
        "b=int(input(\"enter second number : \"))\n",
        "# Add two numbers\n",
        "sum = a + b\n",
        "# Display the sum\n",
        "print('The sum of {0} and {1} is {2}'.format(a, b, sum))\n"
      ],
      "metadata": {
        "colab": {
          "base_uri": "https://localhost:8080/"
        },
        "id": "YooaFpJnntfO",
        "outputId": "d6849a95-ba8a-44d3-eff7-89be7fec9b70"
      },
      "execution_count": 2,
      "outputs": [
        {
          "output_type": "stream",
          "name": "stdout",
          "text": [
            "enter first number : 203\n",
            "enter second number : 345\n",
            "The sum of 203 and 345 is 548\n"
          ]
        }
      ]
    },
    {
      "cell_type": "code",
      "source": [
        "# Python Program to calculate the square root\n",
        "ict = 27\n",
        "ans = ict ** 0.5\n",
        "print('The square root of %0.2f is %0.2f'%(ict ,ans))"
      ],
      "metadata": {
        "colab": {
          "base_uri": "https://localhost:8080/"
        },
        "id": "QrTf3NvgoZnl",
        "outputId": "69e92bae-66a2-4cfc-c185-305054b57e9e"
      },
      "execution_count": 3,
      "outputs": [
        {
          "output_type": "stream",
          "name": "stdout",
          "text": [
            "The square root of 27.00 is 5.20\n"
          ]
        }
      ]
    },
    {
      "cell_type": "code",
      "source": [
        "# Python Program to calculate the square root\n",
        "# import the math module\n",
        "import math\n",
        "ict = 27\n",
        "ans =math.sqrt(ict)\n",
        "print('The square root of %0.2f is %0.2f'%(ict ,ans))\n"
      ],
      "metadata": {
        "colab": {
          "base_uri": "https://localhost:8080/"
        },
        "id": "FDAM21ORo3ZO",
        "outputId": "e2779f67-ee04-499e-a415-5ba69e6653a0"
      },
      "execution_count": 4,
      "outputs": [
        {
          "output_type": "stream",
          "name": "stdout",
          "text": [
            "The square root of 27.00 is 5.20\n"
          ]
        }
      ]
    },
    {
      "cell_type": "code",
      "source": [
        "# Python Program to calculate the square root\n",
        "# import the math module\n",
        "import math\n",
        "ict = float(input('Enter a number: '))\n",
        "ans =math.sqrt(ict)\n",
        "print('The square root of %0.2f is %0.2f'%(ict ,ans))\n"
      ],
      "metadata": {
        "colab": {
          "base_uri": "https://localhost:8080/"
        },
        "id": "4hi1Oo30p9DM",
        "outputId": "f6076a76-1d80-4b77-c747-f692889b59f7"
      },
      "execution_count": 5,
      "outputs": [
        {
          "output_type": "stream",
          "name": "stdout",
          "text": [
            "Enter a number: 30000\n",
            "The square root of 30000.00 is 173.21\n"
          ]
        }
      ]
    },
    {
      "cell_type": "code",
      "source": [
        "# Python Program to find the area of triangle\n",
        "# Take inputs from the user\n",
        "a = float(input('Enter first side: '))\n",
        "b = float(input('Enter second side: '))\n",
        "c = float(input('Enter third side: '))\n",
        "# calculate the semi-perimeter\n",
        "s = (a + b + c) / 2\n",
        "# calculate the area\n",
        "area = (s*(s-a)*(s-b)*(s-c)) ** 0.5\n",
        "print('The area of the triangle is %0.3f' %area)"
      ],
      "metadata": {
        "colab": {
          "base_uri": "https://localhost:8080/"
        },
        "id": "BDchMV81qGQE",
        "outputId": "d38a6a94-1429-4fa8-89a7-8437d657ee21"
      },
      "execution_count": 6,
      "outputs": [
        {
          "output_type": "stream",
          "name": "stdout",
          "text": [
            "Enter first side: 23\n",
            "Enter second side: 34\n",
            "Enter third side: 56\n",
            "The area of the triangle is 145.923\n"
          ]
        }
      ]
    },
    {
      "cell_type": "code",
      "source": [
        "# Python Program to calculate your age\n",
        "# Take inputs from the user\n",
        "current = float(input('Enter the current year: '))\n",
        "yob = float(input('Enter Year of birth: '))\n",
        "# calculate the age\n",
        "age=current-yob\n",
        "print('Your current age is {0}'.format(age))"
      ],
      "metadata": {
        "colab": {
          "base_uri": "https://localhost:8080/"
        },
        "id": "do8_rsGaqeGG",
        "outputId": "43a2bb6a-0f31-40b1-820b-5b104987e5b5"
      },
      "execution_count": 7,
      "outputs": [
        {
          "output_type": "stream",
          "name": "stdout",
          "text": [
            "Enter the current year: 2024\n",
            "Enter Year of birth: 2003\n",
            "Your current age is 21.0\n"
          ]
        }
      ]
    },
    {
      "cell_type": "code",
      "source": [
        "\"\"\"\n",
        "Write a Python program to convert temperatures to and from celsius, fahrenheit.\n",
        "Formula :\n",
        "°F = (°C × 9/5) + 32\n",
        "°C = (°F − 32) x 5/9\n",
        "[ where c = temperature in celsius and f = temperature in fahrenheit ]:\n",
        "\"\"\"\n",
        "Fahrenheit = float(input(\"Enter a temperature in Fahrenheit: \"))\n",
        "Celsius = (Fahrenheit - 32) * 5.0/9.0\n",
        "print (\"Temperature:\", Fahrenheit, \"Fahrenheit = %0.2f\" %Celsius, \" C\")\n",
        "Celsius = float(input(\"Enter a temperature in Celsius: \"))\n",
        "Fahrenheit = 9.0/5.0 * Celsius + 32\n",
        "print(\"Temperature:\", Celsius, \"Celsius = %0.2f\" %Fahrenheit, \" F\")"
      ],
      "metadata": {
        "colab": {
          "base_uri": "https://localhost:8080/"
        },
        "id": "fo3UYXBbqr0I",
        "outputId": "c3d127eb-a5d2-49ef-86a7-5e13a364a3cc"
      },
      "execution_count": 8,
      "outputs": [
        {
          "output_type": "stream",
          "name": "stdout",
          "text": [
            "Enter a temperature in Fahrenheit: 344\n",
            "Temperature: 344.0 Fahrenheit = 173.33  C\n",
            "Enter a temperature in Celsius: 173.33\n",
            "Temperature: 173.33 Celsius = 343.99  F\n"
          ]
        }
      ]
    },
    {
      "cell_type": "code",
      "source": [
        "#A program to calculate cuberoot of a number (using math.ceil ()function):\n",
        "import math\n",
        "number = int(input(\"Enter the number: \"))\n",
        "cuberoot = math.ceil(number ** (1/3))\n",
        "print(\"The cube root is:\",cuberoot)"
      ],
      "metadata": {
        "colab": {
          "base_uri": "https://localhost:8080/"
        },
        "id": "wrUnka_mrT45",
        "outputId": "771ef44f-edf5-4f03-b875-4bfa24416e56"
      },
      "execution_count": 9,
      "outputs": [
        {
          "output_type": "stream",
          "name": "stdout",
          "text": [
            "Enter the number: 456\n",
            "The cube root is: 8\n"
          ]
        }
      ]
    },
    {
      "cell_type": "code",
      "source": [
        " #A program to calculate cuberoot of a number (using **):\n",
        "number = int(input(\"Enter the number: \"))\n",
        "cuberoot = number**(1/3)\n",
        "print(\"The cube root is: %0.2f\" %cuberoot)\n"
      ],
      "metadata": {
        "colab": {
          "base_uri": "https://localhost:8080/"
        },
        "id": "xLGEXuLIr3I4",
        "outputId": "24b659e4-39a7-440c-d95f-c5431d4a8c00"
      },
      "execution_count": 10,
      "outputs": [
        {
          "output_type": "stream",
          "name": "stdout",
          "text": [
            "Enter the number: 456\n",
            "The cube root is: 7.70\n"
          ]
        }
      ]
    },
    {
      "cell_type": "code",
      "source": [
        "#A program to calculate cube root of a number (using Round Function):\n",
        "import math\n",
        "number = int(input(\"Enter the number: \"))\n",
        "cuberoot = round(number ** (1/3), 2)\n",
        "print(\"The cube root is:\", cuberoot)"
      ],
      "metadata": {
        "colab": {
          "base_uri": "https://localhost:8080/"
        },
        "id": "hUCILh7xsGje",
        "outputId": "7450abfe-0a83-4ec8-ef9e-0b23cd8c517c"
      },
      "execution_count": 11,
      "outputs": [
        {
          "output_type": "stream",
          "name": "stdout",
          "text": [
            "Enter the number: 456\n",
            "The cube root is: 7.7\n"
          ]
        }
      ]
    },
    {
      "cell_type": "code",
      "source": [
        "\"\"\"\n",
        "A program is required to calculate wages for employees of ABC Ltd. Using the following\n",
        "formulae.\n",
        "i. Basic salary = No of Hours * hourly rate\n",
        "ii. Lunch Allowance = 200\n",
        "iii. Gross Salary = Basic Pay + Lunch Allowance\n",
        "iv. Income Tax charged on gross pay is 30% of the gross\n",
        "v. Net pay = Gross pay – Tax\n",
        "Hourly rate and lunch allowance are constant values. The number of hours worked should be\n",
        "read from the keyboard. Write a program to process salary for an employee.\n",
        "\"\"\"\n",
        "# Constants\n",
        "hourly_rate = 1500\n",
        "lunch_allowance = 600\n",
        "tax_rate = 0.30\n",
        "# Input number of hours worked from the user\n",
        "hours_worked = float(input(\"Enter the number of hours worked: \"))\n",
        "# Calculate Basic Pay\n",
        "basic_salary = hours_worked * hourly_rate\n",
        "# Calculate Gross Salary\n",
        "gross_salary = basic_salary + lunch_allowance\n",
        "# Calculate Tax\n",
        "tax = gross_salary * tax_rate\n",
        "# Calculate Net Pay\n",
        "net_pay = gross_salary - tax\n",
        "# Display the calculated values\n",
        "print(\"Basic Salary: KSH\", format(basic_salary, \".2f\"))\n",
        "print(\"Gross Salary: KSH\", format(gross_salary, \".2f\"))\n",
        "print(\"Tax: KSH\", format(tax, \".2f\"))\n",
        "print(\"Net Pay: KSH\", format(net_pay, \".2f\"))"
      ],
      "metadata": {
        "colab": {
          "base_uri": "https://localhost:8080/"
        },
        "id": "txxnCq_gsNuJ",
        "outputId": "893b8f57-7576-4d4b-d015-f18a1ecbe959"
      },
      "execution_count": 12,
      "outputs": [
        {
          "output_type": "stream",
          "name": "stdout",
          "text": [
            "Enter the number of hours worked: 45\n",
            "Basic Salary: KSH 67500.00\n",
            "Gross Salary: KSH 68100.00\n",
            "Tax: KSH 20430.00\n",
            "Net Pay: KSH 47670.00\n"
          ]
        }
      ]
    }
  ]
}