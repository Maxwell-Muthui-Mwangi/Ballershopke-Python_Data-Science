{
  "nbformat": 4,
  "nbformat_minor": 0,
  "metadata": {
    "colab": {
      "provenance": [],
      "authorship_tag": "ABX9TyM2VQ29n7dfTMNy+/DN7kP6",
      "include_colab_link": true
    },
    "kernelspec": {
      "name": "python3",
      "display_name": "Python 3"
    },
    "language_info": {
      "name": "python"
    }
  },
  "cells": [
    {
      "cell_type": "markdown",
      "metadata": {
        "id": "view-in-github",
        "colab_type": "text"
      },
      "source": [
        "<a href=\"https://colab.research.google.com/github/Maxwell-Muthui-Mwangi/Ballershopke-Python_Data-Science/blob/main/cat%202%20data%20science.ipynb\" target=\"_parent\"><img src=\"https://colab.research.google.com/assets/colab-badge.svg\" alt=\"Open In Colab\"/></a>"
      ]
    },
    {
      "cell_type": "code",
      "execution_count": null,
      "metadata": {
        "id": "WWpBUHmAIYIf"
      },
      "outputs": [],
      "source": [
        "# Import necessary libraries\n",
        "import pandas as pd\n",
        "from sklearn.model_selection import train_test_split\n",
        "from sklearn.feature_extraction.text import CountVectorizer\n",
        "from sklearn.linear_model import LogisticRegression\n",
        "from sklearn.metrics import accuracy_score, classification_report\n",
        "\n",
        "# Load dataset (assuming you have a CSV file containing social media data and voter registration data)\n",
        "social_media_data = pd.read_csv('social_media_data.csv')\n",
        "voter_registration_data = pd.read_csv('voter_registration_data.csv')\n",
        "\n",
        "# Merge social media data with voter registration data based on a common identifier (e.g., user ID)\n",
        "merged_data = pd.merge(social_media_data, voter_registration_data, on='user_id', how='inner')\n",
        "\n",
        "# Preprocess data and extract relevant features\n",
        "# For simplicity, let's assume we're interested in sentiment analysis on text data from social media\n",
        "X = merged_data['text']\n",
        "y = merged_data['voter_support']  # Assuming 'voter_support' indicates support for a particular candidate\n",
        "\n",
        "# Split data into training and testing sets\n",
        "X_train, X_test, y_train, y_test = train_test_split(X, y, test_size=0.2, random_state=42)\n",
        "\n",
        "# Vectorize text data using CountVectorizer\n",
        "vectorizer = CountVectorizer()\n",
        "X_train_vect = vectorizer.fit_transform(X_train)\n",
        "X_test_vect = vectorizer.transform(X_test)\n",
        "\n",
        "# Initialize and train logistic regression model\n",
        "model = LogisticRegression()\n",
        "model.fit(X_train_vect, y_train)\n",
        "\n",
        "# Predictions on the test set\n",
        "y_pred = model.predict(X_test_vect)\n",
        "\n",
        "# Evaluate model performance\n",
        "accuracy = accuracy_score(y_test, y_pred)\n",
        "print(\"Accuracy:\", accuracy)\n",
        "\n",
        "# Print classification report\n",
        "print(classification_report(y_test, y_pred))\n"
      ]
    },
    {
      "cell_type": "code",
      "source": [
        "pip install fairlearn\n"
      ],
      "metadata": {
        "id": "1Huwmf8zLZ5m"
      },
      "execution_count": null,
      "outputs": []
    },
    {
      "cell_type": "code",
      "source": [
        "# Regular Monitoring and Auditing\n",
        "# Example: Check for fairness metrics\n",
        "# Assuming 'gender' is a sensitive attribute, we check for disparate impact\n",
        "from fairlearn.metrics import demographic_parity_difference\n",
        "fairness_metric = demographic_parity_difference(y_true=y_test, y_pred=y_pred, sensitive_features=X_test['gender'])\n",
        "print(\"Fairness Metric (Demographic Parity Difference):\", fairness_metric)\n"
      ],
      "metadata": {
        "id": "0Tb_lAyQLPnO"
      },
      "execution_count": null,
      "outputs": []
    },
    {
      "cell_type": "code",
      "source": [
        "# A/B Testing\n",
        "# Example: Compare performance of the model against a baseline model\n",
        "baseline_model = DummyClassifier(strategy=\"most_frequent\")\n",
        "baseline_model.fit(X_train_vect, y_train)\n",
        "baseline_y_pred = baseline_model.predict(X_test_vect)\n",
        "baseline_accuracy = accuracy_score(y_test, baseline_y_pred)\n",
        "print(\"Baseline Accuracy:\", baseline_accuracy)\n"
      ],
      "metadata": {
        "id": "thgSOZ_iLUXQ"
      },
      "execution_count": null,
      "outputs": []
    }
  ]
}