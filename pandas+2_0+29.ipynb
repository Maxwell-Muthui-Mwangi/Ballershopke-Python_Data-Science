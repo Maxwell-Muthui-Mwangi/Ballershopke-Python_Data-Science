{
  "cells": [
    {
      "cell_type": "markdown",
      "metadata": {
        "id": "view-in-github",
        "colab_type": "text"
      },
      "source": [
        "<a href=\"https://colab.research.google.com/github/Maxwell-Muthui-Mwangi/Ballershopke-Python_Data-Science/blob/main/pandas%2B2_0%2B29.ipynb\" target=\"_parent\"><img src=\"https://colab.research.google.com/assets/colab-badge.svg\" alt=\"Open In Colab\"/></a>"
      ]
    },
    {
      "cell_type": "code",
      "execution_count": null,
      "id": "dcc5f4f3",
      "metadata": {
        "id": "dcc5f4f3",
        "outputId": "dc54bb63-ee16-4399-b0a8-00772338885e",
        "colab": {
          "base_uri": "https://localhost:8080/"
        }
      },
      "outputs": [
        {
          "output_type": "stream",
          "name": "stdout",
          "text": [
            "Requirement already satisfied: pandas in /usr/local/lib/python3.10/dist-packages (1.5.3)\n",
            "Collecting pandas\n",
            "  Downloading pandas-2.2.1-cp310-cp310-manylinux_2_17_x86_64.manylinux2014_x86_64.whl (13.0 MB)\n",
            "\u001b[2K     \u001b[91m━━━━━━━━━━━━━━━━━━━━━━━━━━━━━━━━━━━━\u001b[0m\u001b[90m╺\u001b[0m\u001b[90m━━━\u001b[0m \u001b[32m11.9/13.0 MB\u001b[0m \u001b[31m33.8 MB/s\u001b[0m eta \u001b[36m0:00:01\u001b[0m"
          ]
        }
      ],
      "source": [
        "pip install -U pandas"
      ]
    },
    {
      "cell_type": "markdown",
      "id": "1df11201",
      "metadata": {
        "id": "1df11201"
      },
      "source": [
        "# Creating a DataFrame"
      ]
    },
    {
      "cell_type": "code",
      "execution_count": null,
      "id": "b9336520",
      "metadata": {
        "id": "b9336520",
        "outputId": "73f9e8ce-44ef-4d80-d639-da7f6388bc2b"
      },
      "outputs": [
        {
          "name": "stdout",
          "output_type": "stream",
          "text": [
            "Empty DataFrame\n",
            "Columns: [name, age, occupation]\n",
            "Index: []\n",
            "Empty DataFrame\n",
            "Columns: [name, age, occupation, _merge]\n",
            "Index: []\n"
          ]
        }
      ],
      "source": [
        "import pandas as pd\n",
        "\n",
        "# Pandas 1.0\n",
        "df1 = pd.DataFrame({'name': ['Alice', 'Bob'], 'age': [25, 30]})\n",
        "\n",
        "# Pandas 2.0\n",
        "df2 = pd.DataFrame({'name': ['Carol', 'Dave'], 'occupation': ['Software Engineer', 'Data Scientist']})\n",
        "\n",
        "# Merging DataFrames in Pandas 1.0\n",
        "merged_df1 = pd.merge(df1, df2, on='name', how='inner')\n",
        "\n",
        "# Merging DataFrames in Pandas 2.0\n",
        "merged_df2 = pd.merge(df1, df2, on='name', how='inner', indicator=True)\n",
        "\n",
        "# Printing the merged DataFrames\n",
        "print(merged_df1)\n",
        "print(merged_df2)\n"
      ]
    },
    {
      "cell_type": "code",
      "execution_count": null,
      "id": "ea973b5f",
      "metadata": {
        "id": "ea973b5f",
        "outputId": "f74a7e71-d297-4be1-f0e4-c409feaf2016"
      },
      "outputs": [
        {
          "name": "stdout",
          "output_type": "stream",
          "text": [
            "    name   age\n",
            "0  Alice  25.0\n",
            "1    Bob  30.0\n",
            "2   None   NaN\n"
          ]
        }
      ],
      "source": [
        "import pandas as pd\n",
        "\n",
        "# Create a DataFrame with nullable data types\n",
        "df = pd.DataFrame({'name': ['Alice', 'Bob', None], 'age': [25, 30, None]})\n",
        "\n",
        "# Print the DataFrame\n",
        "print(df)\n"
      ]
    },
    {
      "cell_type": "markdown",
      "id": "c91d0e77",
      "metadata": {
        "id": "c91d0e77"
      },
      "source": [
        "# copy-on-write optimization:"
      ]
    },
    {
      "cell_type": "code",
      "execution_count": null,
      "id": "0d27fa81",
      "metadata": {
        "id": "0d27fa81",
        "outputId": "e3751d6d-e04c-487d-a468-c7bf6ecdc280"
      },
      "outputs": [
        {
          "name": "stdout",
          "output_type": "stream",
          "text": [
            "Index    132\n",
            "name      16\n",
            "age       16\n",
            "dtype: int64\n",
            "Index         132\n",
            "name           16\n",
            "age            16\n",
            "occupation     16\n",
            "dtype: int64\n"
          ]
        }
      ],
      "source": [
        "import pandas as pd\n",
        "\n",
        "# Create a DataFrame\n",
        "df = pd.DataFrame({'name': ['Alice', 'Bob'], 'age': [25, 30]})\n",
        "\n",
        "# View the memory usage of the DataFrame\n",
        "print(df.memory_usage())\n",
        "\n",
        "# Add a new column to the DataFrame\n",
        "df['occupation'] = ['Software Engineer', 'Data Scientist']\n",
        "\n",
        "# View the memory usage of the DataFrame again\n",
        "print(df.memory_usage())\n"
      ]
    },
    {
      "cell_type": "markdown",
      "id": "4b60e51f",
      "metadata": {
        "id": "4b60e51f"
      },
      "source": [
        "As you can see, the memory usage of the DataFrame does not change when a new column is added. This is because Pandas 2.0 uses copy-on-write optimization to defer copying the DataFrame until it is necessary."
      ]
    },
    {
      "cell_type": "code",
      "execution_count": null,
      "id": "a0ff0f4a",
      "metadata": {
        "id": "a0ff0f4a",
        "outputId": "854550d3-caa4-4d96-f25c-09eab7e37fce"
      },
      "outputs": [
        {
          "name": "stdout",
          "output_type": "stream",
          "text": [
            "    name   age\n",
            "0  Alice  25.0\n",
            "1    Bob  30.0\n",
            "    name  age\n",
            "0  Carol   25\n",
            "1   Dave   30\n"
          ]
        }
      ],
      "source": [
        "import pandas as pd\n",
        "\n",
        "# Pandas 1.0\n",
        "df1 = pd.DataFrame({'name': ['Alice', 'Bob', None], 'age': [25, 30, None]})\n",
        "\n",
        "# Pandas 2.0\n",
        "df2 = pd.DataFrame({'name': ['Carol', 'Dave'], 'age': [25, 30]})\n",
        "\n",
        "# Dropping missing values in Pandas 1.0\n",
        "df1 = df1.dropna()\n",
        "\n",
        "# Dropping missing values in Pandas 2.0\n",
        "df2 = df2.dropna(subset=['age'])\n",
        "\n",
        "# Printing the DataFrames\n",
        "print(df1)\n",
        "print(df2)\n"
      ]
    },
    {
      "cell_type": "markdown",
      "id": "22cf0892",
      "metadata": {
        "id": "22cf0892"
      },
      "source": [
        "As you can see, the Dropped DataFrames are different. In Pandas 2.0, you can specify which columns to drop missing values from. This is a new feature in Pandas 2.0."
      ]
    }
  ],
  "metadata": {
    "kernelspec": {
      "display_name": "Python 3 (ipykernel)",
      "language": "python",
      "name": "python3"
    },
    "language_info": {
      "codemirror_mode": {
        "name": "ipython",
        "version": 3
      },
      "file_extension": ".py",
      "mimetype": "text/x-python",
      "name": "python",
      "nbconvert_exporter": "python",
      "pygments_lexer": "ipython3",
      "version": "3.11.4"
    },
    "colab": {
      "provenance": [],
      "include_colab_link": true
    }
  },
  "nbformat": 4,
  "nbformat_minor": 5
}